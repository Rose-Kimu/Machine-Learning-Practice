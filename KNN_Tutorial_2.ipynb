{
  "nbformat": 4,
  "nbformat_minor": 0,
  "metadata": {
    "colab": {
      "provenance": [],
      "authorship_tag": "ABX9TyMA4eqv4ZlOiLFQFihMFJRf",
      "include_colab_link": true
    },
    "kernelspec": {
      "name": "python3",
      "display_name": "Python 3"
    },
    "language_info": {
      "name": "python"
    }
  },
  "cells": [
    {
      "cell_type": "markdown",
      "metadata": {
        "id": "view-in-github",
        "colab_type": "text"
      },
      "source": [
        "<a href=\"https://colab.research.google.com/github/Rose-Kimu/Machine-Learning-Practice/blob/main/KNN_Tutorial_2.ipynb\" target=\"_parent\"><img src=\"https://colab.research.google.com/assets/colab-badge.svg\" alt=\"Open In Colab\"/></a>"
      ]
    },
    {
      "cell_type": "code",
      "execution_count": 1,
      "metadata": {
        "id": "QBdxr7bVhPFH"
      },
      "outputs": [],
      "source": [
        "import numpy as np\n",
        "import pandas as pd\n",
        "from sklearn import neighbors, metrics\n",
        "from sklearn.model_selection import train_test_split\n",
        "from sklearn.preprocessing import LabelEncoder   #Convert the string data into numbers"
      ]
    },
    {
      "cell_type": "code",
      "source": [
        "pip install ucimlrepo"
      ],
      "metadata": {
        "colab": {
          "base_uri": "https://localhost:8080/"
        },
        "id": "6Pf20YnejDe7",
        "outputId": "08b8f230-8eaf-407a-a222-3f61141a972a"
      },
      "execution_count": 3,
      "outputs": [
        {
          "output_type": "stream",
          "name": "stdout",
          "text": [
            "Collecting ucimlrepo\n",
            "  Downloading ucimlrepo-0.0.2-py3-none-any.whl (7.0 kB)\n",
            "Installing collected packages: ucimlrepo\n",
            "Successfully installed ucimlrepo-0.0.2\n"
          ]
        }
      ]
    },
    {
      "cell_type": "code",
      "source": [
        "from ucimlrepo import fetch_ucirepo\n",
        "\n",
        "# Specify the dataset ID you want to fetch (ID 19 corresponds to the \"car evaluation\" dataset)\n",
        "dataset_id = 19\n",
        "\n",
        "# Fetch the dataset\n",
        "car_evaluation = fetch_ucirepo(id=dataset_id)\n",
        "\n",
        "# Data (as pandas dataframes)\n",
        "X = car_evaluation.data.features[['buying', 'maint', 'safety']].values  # Use double square brackets for column selection\n",
        "y = car_evaluation.data.targets[['class']]\n",
        "\n",
        "# Print the data\n",
        "print(X)\n",
        "print(y)\n"
      ],
      "metadata": {
        "colab": {
          "base_uri": "https://localhost:8080/"
        },
        "id": "uYd1bufQm-Rh",
        "outputId": "2357ae83-cf31-4d10-a2b7-b60c1653d72b"
      },
      "execution_count": 4,
      "outputs": [
        {
          "output_type": "stream",
          "name": "stdout",
          "text": [
            "[['vhigh' 'vhigh' 'low']\n",
            " ['vhigh' 'vhigh' 'med']\n",
            " ['vhigh' 'vhigh' 'high']\n",
            " ...\n",
            " ['low' 'low' 'low']\n",
            " ['low' 'low' 'med']\n",
            " ['low' 'low' 'high']]\n",
            "      class\n",
            "0     unacc\n",
            "1     unacc\n",
            "2     unacc\n",
            "3     unacc\n",
            "4     unacc\n",
            "...     ...\n",
            "1723   good\n",
            "1724  vgood\n",
            "1725  unacc\n",
            "1726   good\n",
            "1727  vgood\n",
            "\n",
            "[1728 rows x 1 columns]\n"
          ]
        }
      ]
    },
    {
      "cell_type": "markdown",
      "source": [
        "Converting the data (the strings in the values into numbers )"
      ],
      "metadata": {
        "id": "6sSOWBv3BqYu"
      }
    },
    {
      "cell_type": "code",
      "source": [
        "#Converting the x\n",
        "Le = LabelEncoder()\n",
        "for i in range(len(X[0])):\n",
        "  X[:, i] = Le.fit_transform(X[:, i])\n",
        "\n",
        "print(X)\n",
        "\n"
      ],
      "metadata": {
        "id": "0lyMcO9TtOtK"
      },
      "execution_count": null,
      "outputs": []
    },
    {
      "cell_type": "markdown",
      "source": [
        "LABEL ENCODER SOME PRACTICE\n"
      ],
      "metadata": {
        "id": "-M3R0XotUKwa"
      }
    },
    {
      "cell_type": "code",
      "source": [],
      "metadata": {
        "id": "7lRgPZCyUOFD"
      },
      "execution_count": null,
      "outputs": []
    },
    {
      "cell_type": "code",
      "source": [
        "#Converting the y\n",
        "label_mapping = {\n",
        "    'unacc':0,\n",
        "    'acc':1,\n",
        "    'good':2,\n",
        "    'vgood':3\n",
        "}\n",
        "\n",
        "y['class'] = y['class'].map(label_mapping)\n",
        "y = np.array(y)\n",
        "print(y)"
      ],
      "metadata": {
        "colab": {
          "base_uri": "https://localhost:8080/"
        },
        "id": "HMjUv_ysGaiq",
        "outputId": "12052d78-ad5d-4b16-9895-a424371ea09e"
      },
      "execution_count": null,
      "outputs": [
        {
          "output_type": "stream",
          "name": "stdout",
          "text": [
            "[[0]\n",
            " [0]\n",
            " [0]\n",
            " ...\n",
            " [0]\n",
            " [2]\n",
            " [3]]\n"
          ]
        }
      ]
    },
    {
      "cell_type": "markdown",
      "source": [
        "Create the model"
      ],
      "metadata": {
        "id": "bANqmevNGhes"
      }
    },
    {
      "cell_type": "code",
      "source": [],
      "metadata": {
        "id": "WYvNwiG6Gg3_"
      },
      "execution_count": null,
      "outputs": []
    },
    {
      "cell_type": "code",
      "source": [],
      "metadata": {
        "id": "iD8cUmlftMOI"
      },
      "execution_count": null,
      "outputs": []
    }
  ]
}